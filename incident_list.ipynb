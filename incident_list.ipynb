{
 "cells": [
  {
   "cell_type": "markdown",
   "metadata": {},
   "source": [
    "# 1.Extracting data from the website"
   ]
  },
  {
   "cell_type": "code",
   "execution_count": null,
   "metadata": {},
   "outputs": [],
   "source": [
    "# Import packages\n",
    "import pandas as pd\n",
    "import requests\n",
    "from bs4 import BeautifulSoup"
   ]
  },
  {
   "cell_type": "code",
   "execution_count": 9,
   "metadata": {},
   "outputs": [],
   "source": [
    "# Using https://avherald.com/\n",
    "\n",
    "# Retrieve links of pages excluding website announcements\n",
    "\n",
    "base_url = \"https://avherald.com\"\n",
    "wo_news = \"/h?list=&opt=2048\"\n",
    "\n",
    "\n",
    "headers = {\n",
    "    \"User-Agent\": \"Mozilla/5.0 (Windows NT 11.0; Win64; x64) AppleWebKit/537.36 (KHTML, like Gecko) Chrome/121.0.0.0 Safari/537.36\"\n",
    "}\n",
    "\n",
    "base_response = requests.get(base_url+wo_news,headers = headers )\n",
    "\n",
    "if base_response.status_code == 200:\n",
    "    soup = BeautifulSoup(base_response.text,'html.parser')\n",
    "else:\n",
    "    print(\"Fetch page failed\")"
   ]
  },
  {
   "cell_type": "code",
   "execution_count": 33,
   "metadata": {},
   "outputs": [
    {
     "name": "stdout",
     "output_type": "stream",
     "text": [
      "Page X imported\n"
     ]
    }
   ],
   "source": [
    "# Extract links to wikibase\n",
    "import re\n",
    "ids = []\n",
    "for s in soup.find_all('a'):\n",
    "    link = s.get('href')\n",
    "    pattern = r'(\\/h\\?article=\\w+)'\n",
    "    match = re.findall(pattern, link)\n",
    "    if match:\n",
    "        ids.append(match[0])\n",
    "ids\n",
    "print(f\"Page X imported\")"
   ]
  },
  {
   "cell_type": "code",
   "execution_count": 34,
   "metadata": {},
   "outputs": [
    {
     "data": {
      "text/plain": [
       "['/h?article=52374362',\n",
       " '/h?article=52418266',\n",
       " '/h?article=52417dcb',\n",
       " '/h?article=52417ba6',\n",
       " '/h?article=52416bbe',\n",
       " '/h?article=523b782d',\n",
       " '/h?article=524168c3',\n",
       " '/h?article=52416727',\n",
       " '/h?article=523ec753',\n",
       " '/h?article=51b7473c',\n",
       " '/h?article=5240d916',\n",
       " '/h?article=5018aa32',\n",
       " '/h?article=5240ba0d',\n",
       " '/h?article=5240abca',\n",
       " '/h?article=5240aec2',\n",
       " '/h?article=524027d7',\n",
       " '/h?article=52401f3c',\n",
       " '/h?article=52401694',\n",
       " '/h?article=523ff442',\n",
       " '/h?article=524001d2',\n",
       " '/h?article=523f91e8',\n",
       " '/h?article=523f882f',\n",
       " '/h?article=523f827b',\n",
       " '/h?article=523ece13',\n",
       " '/h?article=523ecbf0',\n",
       " '/h?article=523ec3d3',\n",
       " '/h?article=514b23d5',\n",
       " '/h?article=523eb568',\n",
       " '/h?article=523e19b9',\n",
       " '/h?article=523ceeec',\n",
       " '/h?article=523cedc0',\n",
       " '/h?article=523cd65e',\n",
       " '/h?article=523cd3b8',\n",
       " '/h?article=523c3d01',\n",
       " '/h?article=523c1d8d',\n",
       " '/h?article=521fd4fb',\n",
       " '/h?article=523ba0ee',\n",
       " '/h?article=523adfe4',\n",
       " '/h?article=523add12',\n",
       " '/h?article=523ad9f3',\n",
       " '/h?article=523a4b88',\n",
       " '/h?article=5216ca13',\n",
       " '/h?article=523a3495',\n",
       " '/h?article=523a3189',\n",
       " '/h?article=523a2f58',\n",
       " '/h?article=523a2dc3',\n",
       " '/h?article=5239a07c',\n",
       " '/h?article=5239938e',\n",
       " '/h?article=45483425']"
      ]
     },
     "execution_count": 34,
     "metadata": {},
     "output_type": "execute_result"
    }
   ],
   "source": [
    "ids"
   ]
  },
  {
   "cell_type": "code",
   "execution_count": 35,
   "metadata": {},
   "outputs": [],
   "source": [
    "# Accessing individual page\n",
    "\n",
    "page_response = requests.get(base_url+ids[0], headers = headers)\n",
    "\n",
    "soup = BeautifulSoup(page_response.text, 'html.parser')"
   ]
  },
  {
   "cell_type": "code",
   "execution_count": 37,
   "metadata": {},
   "outputs": [
    {
     "data": {
      "text/plain": [
       "'https://avherald.com/h?article=52374362'"
      ]
     },
     "execution_count": 37,
     "metadata": {},
     "output_type": "execute_result"
    }
   ],
   "source": [
    "base_url+ids[0]"
   ]
  },
  {
   "cell_type": "code",
   "execution_count": 86,
   "metadata": {},
   "outputs": [
    {
     "data": {
      "text/plain": [
       "'Crash: PSA CRJ7 at Washington on Jan 29th 2025, midair collision with helicopter on final'"
      ]
     },
     "execution_count": 86,
     "metadata": {},
     "output_type": "execute_result"
    }
   ],
   "source": [
    "headline = soup.find_all('span', class_ = 'headline_article')[0].text\n",
    "headline"
   ]
  },
  {
   "cell_type": "code",
   "execution_count": 87,
   "metadata": {},
   "outputs": [],
   "source": [
    "body = soup.find_all('span', class_ = 'sitetext')[3]\n",
    "body_text = \"\".join(str(b) for b in body.contents)"
   ]
  },
  {
   "cell_type": "code",
   "execution_count": 93,
   "metadata": {},
   "outputs": [],
   "source": [
    "date_pattern = r'\\b(?:Jan|Feb|Mar|Apr|May|Jun|Jul|Aug|Sep|Oct|Nov|Dec)\\s\\d{1,2}(?:st|nd|rd|th)?,?\\s\\d{4}\\b'\n",
    "ext_date = re.findall(date_pattern, headline)[0]"
   ]
  },
  {
   "cell_type": "code",
   "execution_count": 94,
   "metadata": {},
   "outputs": [],
   "source": [
    "clean_date = re.sub(r'(st|nd|rd|th)', '', ext_date)"
   ]
  },
  {
   "cell_type": "code",
   "execution_count": 99,
   "metadata": {},
   "outputs": [
    {
     "data": {
      "text/plain": [
       "'2025-01-29'"
      ]
     },
     "execution_count": 99,
     "metadata": {},
     "output_type": "execute_result"
    }
   ],
   "source": [
    "from datetime import datetime\n",
    "\n",
    "formatted_date = datetime.strptime(clean_date, \"%b %d %Y\").strftime('%Y-%m-%d')\n",
    "formatted_date"
   ]
  },
  {
   "cell_type": "code",
   "execution_count": null,
   "metadata": {},
   "outputs": [
    {
     "data": {
      "text/html": [
       "<div>\n",
       "<style scoped>\n",
       "    .dataframe tbody tr th:only-of-type {\n",
       "        vertical-align: middle;\n",
       "    }\n",
       "\n",
       "    .dataframe tbody tr th {\n",
       "        vertical-align: top;\n",
       "    }\n",
       "\n",
       "    .dataframe thead th {\n",
       "        text-align: right;\n",
       "    }\n",
       "</style>\n",
       "<table border=\"1\" class=\"dataframe\">\n",
       "  <thead>\n",
       "    <tr style=\"text-align: right;\">\n",
       "      <th></th>\n",
       "      <th>Date</th>\n",
       "      <th>Time</th>\n",
       "      <th>Type</th>\n",
       "      <th>Owner/operator</th>\n",
       "      <th>Registration</th>\n",
       "      <th>MSN</th>\n",
       "      <th>Year of manufacture</th>\n",
       "      <th>Engine model</th>\n",
       "      <th>Fatalities</th>\n",
       "      <th>Other fatalities</th>\n",
       "      <th>Aircraft damage</th>\n",
       "      <th>Category</th>\n",
       "      <th>Location</th>\n",
       "      <th>Phase</th>\n",
       "      <th>Nature</th>\n",
       "      <th>Departure airport</th>\n",
       "      <th>Destination airport</th>\n",
       "      <th>Confidence Rating</th>\n",
       "    </tr>\n",
       "  </thead>\n",
       "  <tbody>\n",
       "    <tr>\n",
       "      <th>1</th>\n",
       "      <td>Friday 14 February 2025</td>\n",
       "      <td>NaN</td>\n",
       "      <td>Airbus A321-211 (WL)</td>\n",
       "      <td>Aeroflot Russian International Airlines</td>\n",
       "      <td>RA-73166</td>\n",
       "      <td>8363</td>\n",
       "      <td>2018</td>\n",
       "      <td>CFMI CFM56-5B3/P</td>\n",
       "      <td>Fatalities: 0 / Occupants: 0</td>\n",
       "      <td>0</td>\n",
       "      <td>Minor</td>\n",
       "      <td>Other</td>\n",
       "      <td>Moskva-Sheremetyevo Airport (SVO/UUEE) - Russia</td>\n",
       "      <td>Standing</td>\n",
       "      <td>-</td>\n",
       "      <td>-</td>\n",
       "      <td>-</td>\n",
       "      <td>Information verified through data from acciden...</td>\n",
       "    </tr>\n",
       "  </tbody>\n",
       "</table>\n",
       "</div>"
      ],
      "text/plain": [
       "0                     Date Time                  Type  \\\n",
       "1  Friday 14 February 2025  NaN  Airbus A321-211 (WL)   \n",
       "\n",
       "0                           Owner/operator Registration   MSN  \\\n",
       "1  Aeroflot Russian International Airlines     RA-73166  8363   \n",
       "\n",
       "0 Year of manufacture      Engine model                    Fatalities  \\\n",
       "1                2018  CFMI CFM56-5B3/P  Fatalities: 0 / Occupants: 0   \n",
       "\n",
       "0 Other fatalities Aircraft damage Category  \\\n",
       "1                0           Minor    Other   \n",
       "\n",
       "0                                         Location     Phase Nature  \\\n",
       "1  Moskva-Sheremetyevo Airport (SVO/UUEE) - Russia  Standing      -   \n",
       "\n",
       "0 Departure airport Destination airport  \\\n",
       "1                 -                   -   \n",
       "\n",
       "0                                  Confidence Rating  \n",
       "1  Information verified through data from acciden...  "
      ]
     },
     "execution_count": 70,
     "metadata": {},
     "output_type": "execute_result"
    }
   ],
   "source": [
    "table = pd.read_html(page_response.text)[0]\n",
    "table[0] = table[0].str.strip(':')\n",
    "table = table.set_index(0).T"
   ]
  },
  {
   "cell_type": "code",
   "execution_count": null,
   "metadata": {},
   "outputs": [],
   "source": [
    "soup.fin"
   ]
  },
  {
   "cell_type": "code",
   "execution_count": null,
   "metadata": {},
   "outputs": [],
   "source": [
    "# Add narrative and source\n",
    "table['Narrative']"
   ]
  }
 ],
 "metadata": {
  "kernelspec": {
   "display_name": "Python 3",
   "language": "python",
   "name": "python3"
  },
  "language_info": {
   "codemirror_mode": {
    "name": "ipython",
    "version": 3
   },
   "file_extension": ".py",
   "mimetype": "text/x-python",
   "name": "python",
   "nbconvert_exporter": "python",
   "pygments_lexer": "ipython3",
   "version": "3.10.6"
  }
 },
 "nbformat": 4,
 "nbformat_minor": 2
}
