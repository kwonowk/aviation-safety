{
 "cells": [
  {
   "cell_type": "markdown",
   "metadata": {},
   "source": [
    "# 1.Extracting data from the website"
   ]
  },
  {
   "cell_type": "code",
   "execution_count": 1,
   "metadata": {},
   "outputs": [],
   "source": [
    "# Import packages\n",
    "import pandas as pd\n",
    "import requests\n",
    "from bs4 import BeautifulSoup"
   ]
  },
  {
   "cell_type": "markdown",
   "metadata": {},
   "source": [
    "# Extracting text from articles "
   ]
  },
  {
   "cell_type": "code",
   "execution_count": 106,
   "metadata": {},
   "outputs": [
    {
     "name": "stdout",
     "output_type": "stream",
     "text": [
      "Articles from year 2021 successfully extracted\n",
      "Articles from year 2022 successfully extracted\n",
      "Articles from year 2023 successfully extracted\n",
      "Articles from year 2024 successfully extracted\n",
      "Articles from year 2025 successfully extracted\n"
     ]
    },
    {
     "data": {
      "text/html": [
       "<div>\n",
       "<style scoped>\n",
       "    .dataframe tbody tr th:only-of-type {\n",
       "        vertical-align: middle;\n",
       "    }\n",
       "\n",
       "    .dataframe tbody tr th {\n",
       "        vertical-align: top;\n",
       "    }\n",
       "\n",
       "    .dataframe thead th {\n",
       "        text-align: right;\n",
       "    }\n",
       "</style>\n",
       "<table border=\"1\" class=\"dataframe\">\n",
       "  <thead>\n",
       "    <tr style=\"text-align: right;\">\n",
       "      <th></th>\n",
       "      <th>Date</th>\n",
       "      <th>Time</th>\n",
       "      <th>Type</th>\n",
       "      <th>Owner/operator</th>\n",
       "      <th>Registration</th>\n",
       "      <th>MSN</th>\n",
       "      <th>Year of manufacture</th>\n",
       "      <th>Total airframe hrs</th>\n",
       "      <th>Cycles</th>\n",
       "      <th>Engine model</th>\n",
       "      <th>...</th>\n",
       "      <th>Aircraft damage</th>\n",
       "      <th>Category</th>\n",
       "      <th>Location</th>\n",
       "      <th>Phase</th>\n",
       "      <th>Nature</th>\n",
       "      <th>Departure airport</th>\n",
       "      <th>Destination airport</th>\n",
       "      <th>Investigating agency</th>\n",
       "      <th>Confidence Rating</th>\n",
       "      <th>Description</th>\n",
       "    </tr>\n",
       "  </thead>\n",
       "  <tbody>\n",
       "    <tr>\n",
       "      <th>1</th>\n",
       "      <td>Saturday 20 March 2021</td>\n",
       "      <td>11:26</td>\n",
       "      <td>Boeing 737-4Y0</td>\n",
       "      <td>Trigana Air Service</td>\n",
       "      <td>PK-YSF</td>\n",
       "      <td>23869/1639</td>\n",
       "      <td>1988</td>\n",
       "      <td>55982 hours</td>\n",
       "      <td>65005 flights</td>\n",
       "      <td>CFMI CFM56-3C1</td>\n",
       "      <td>...</td>\n",
       "      <td>Substantial, written off</td>\n",
       "      <td>Accident</td>\n",
       "      <td>Jakarta-Halim Perdana Kusuma Airport (HLP) - I...</td>\n",
       "      <td>Landing</td>\n",
       "      <td>Cargo</td>\n",
       "      <td>Jakarta-Halim Perdana Kusuma Airport (HLP/WIHH)</td>\n",
       "      <td>Makassar-Sultan Hasanuddin International Airpo...</td>\n",
       "      <td>NTSC</td>\n",
       "      <td>Information verified through data from acciden...</td>\n",
       "      <td>A Boeing 737-4Y0 of Trigana Air Service suffer...</td>\n",
       "    </tr>\n",
       "    <tr>\n",
       "      <th>1</th>\n",
       "      <td>Tuesday 23 March 2021</td>\n",
       "      <td>NaN</td>\n",
       "      <td>Saab 340AF</td>\n",
       "      <td>SprintAir</td>\n",
       "      <td>SP-KPU</td>\n",
       "      <td>340A-145</td>\n",
       "      <td>1989</td>\n",
       "      <td>NaN</td>\n",
       "      <td>NaN</td>\n",
       "      <td>General Electric CT7-5A2</td>\n",
       "      <td>...</td>\n",
       "      <td>Substantial, written off</td>\n",
       "      <td>Accident</td>\n",
       "      <td>Gdansk-Lech Walesa Airport (GDN) - Poland</td>\n",
       "      <td>Standing</td>\n",
       "      <td>-</td>\n",
       "      <td>-</td>\n",
       "      <td>-</td>\n",
       "      <td>SCAAI</td>\n",
       "      <td>Information verified through data from acciden...</td>\n",
       "      <td>n 23 March 2021 in the morning, the pilot of t...</td>\n",
       "    </tr>\n",
       "    <tr>\n",
       "      <th>1</th>\n",
       "      <td>Sunday 4 July 2021</td>\n",
       "      <td>07:00</td>\n",
       "      <td>Antonov An-2R</td>\n",
       "      <td>ELISA</td>\n",
       "      <td>UP-A0135</td>\n",
       "      <td>1G143-48</td>\n",
       "      <td>1973</td>\n",
       "      <td>NaN</td>\n",
       "      <td>NaN</td>\n",
       "      <td>Shvetsov ASh-62IR</td>\n",
       "      <td>...</td>\n",
       "      <td>Substantial</td>\n",
       "      <td>Accident</td>\n",
       "      <td>12 km from Karaultobe, Kyzylorda - Kazakhstan</td>\n",
       "      <td>Manoeuvring (airshow, firefighting, ag.ops.)</td>\n",
       "      <td>Agricultural</td>\n",
       "      <td>NaN</td>\n",
       "      <td>NaN</td>\n",
       "      <td>NaN</td>\n",
       "      <td>Information is only available from news, socia...</td>\n",
       "      <td>An Antonov An-2 force landed in a field after ...</td>\n",
       "    </tr>\n",
       "    <tr>\n",
       "      <th>1</th>\n",
       "      <td>Friday 26 March 2021</td>\n",
       "      <td>16:30</td>\n",
       "      <td>Beechcraft B200 Super King Air</td>\n",
       "      <td>West Wind Aviation Ltd.</td>\n",
       "      <td>5Y-NJS</td>\n",
       "      <td>BB-837</td>\n",
       "      <td>1981</td>\n",
       "      <td>12177 hours</td>\n",
       "      <td>NaN</td>\n",
       "      <td>Pratt &amp; Whitney Canada PT6A-42</td>\n",
       "      <td>...</td>\n",
       "      <td>Destroyed, written off</td>\n",
       "      <td>Accident</td>\n",
       "      <td>Nairobi - Kenya</td>\n",
       "      <td>Approach</td>\n",
       "      <td>Private</td>\n",
       "      <td>Eldoret Airport (EDL/HKEL)</td>\n",
       "      <td>Nairobi-Wilson Airport (WIL/HKNW)</td>\n",
       "      <td>NaN</td>\n",
       "      <td>Information verified through data from acciden...</td>\n",
       "      <td>The aircraft made a forced landing on the Ngon...</td>\n",
       "    </tr>\n",
       "    <tr>\n",
       "      <th>1</th>\n",
       "      <td>Tuesday 5 October 2021</td>\n",
       "      <td>05:44</td>\n",
       "      <td>Dassault Falcon 20C</td>\n",
       "      <td>Sierra West Airlines</td>\n",
       "      <td>N283SA</td>\n",
       "      <td>83</td>\n",
       "      <td>1967</td>\n",
       "      <td>18798 hours</td>\n",
       "      <td>NaN</td>\n",
       "      <td>NaN</td>\n",
       "      <td>...</td>\n",
       "      <td>Destroyed, written off</td>\n",
       "      <td>Accident</td>\n",
       "      <td>1,3 km W of Thomson-McDuffie County Airport, G...</td>\n",
       "      <td>Approach</td>\n",
       "      <td>Cargo</td>\n",
       "      <td>Lubbock Preston Smith International Airport, T...</td>\n",
       "      <td>Thomson-McDuffie County Airport, GA (KHQU)</td>\n",
       "      <td>NTSB</td>\n",
       "      <td>Accident investigation report completed and in...</td>\n",
       "      <td>Sierra West Airlines flight PKW887, a Dassault...</td>\n",
       "    </tr>\n",
       "  </tbody>\n",
       "</table>\n",
       "<p>5 rows × 22 columns</p>\n",
       "</div>"
      ],
      "text/plain": [
       "0                    Date   Time                            Type  \\\n",
       "1  Saturday 20 March 2021  11:26                  Boeing 737-4Y0   \n",
       "1   Tuesday 23 March 2021    NaN                      Saab 340AF   \n",
       "1      Sunday 4 July 2021  07:00                   Antonov An-2R   \n",
       "1    Friday 26 March 2021  16:30  Beechcraft B200 Super King Air   \n",
       "1  Tuesday 5 October 2021  05:44             Dassault Falcon 20C   \n",
       "\n",
       "0           Owner/operator Registration         MSN Year of manufacture  \\\n",
       "1      Trigana Air Service       PK-YSF  23869/1639                1988   \n",
       "1                SprintAir       SP-KPU    340A-145                1989   \n",
       "1                    ELISA     UP-A0135    1G143-48                1973   \n",
       "1  West Wind Aviation Ltd.       5Y-NJS      BB-837                1981   \n",
       "1     Sierra West Airlines       N283SA          83                1967   \n",
       "\n",
       "0 Total airframe hrs         Cycles                    Engine model  ...  \\\n",
       "1        55982 hours  65005 flights                  CFMI CFM56-3C1  ...   \n",
       "1                NaN            NaN        General Electric CT7-5A2  ...   \n",
       "1                NaN            NaN               Shvetsov ASh-62IR  ...   \n",
       "1        12177 hours            NaN  Pratt & Whitney Canada PT6A-42  ...   \n",
       "1        18798 hours            NaN                             NaN  ...   \n",
       "\n",
       "0           Aircraft damage  Category  \\\n",
       "1  Substantial, written off  Accident   \n",
       "1  Substantial, written off  Accident   \n",
       "1               Substantial  Accident   \n",
       "1    Destroyed, written off  Accident   \n",
       "1    Destroyed, written off  Accident   \n",
       "\n",
       "0                                           Location  \\\n",
       "1  Jakarta-Halim Perdana Kusuma Airport (HLP) - I...   \n",
       "1          Gdansk-Lech Walesa Airport (GDN) - Poland   \n",
       "1      12 km from Karaultobe, Kyzylorda - Kazakhstan   \n",
       "1                                    Nairobi - Kenya   \n",
       "1  1,3 km W of Thomson-McDuffie County Airport, G...   \n",
       "\n",
       "0                                         Phase        Nature  \\\n",
       "1                                       Landing         Cargo   \n",
       "1                                      Standing             -   \n",
       "1  Manoeuvring (airshow, firefighting, ag.ops.)  Agricultural   \n",
       "1                                      Approach       Private   \n",
       "1                                      Approach         Cargo   \n",
       "\n",
       "0                                  Departure airport  \\\n",
       "1    Jakarta-Halim Perdana Kusuma Airport (HLP/WIHH)   \n",
       "1                                                  -   \n",
       "1                                                NaN   \n",
       "1                         Eldoret Airport (EDL/HKEL)   \n",
       "1  Lubbock Preston Smith International Airport, T...   \n",
       "\n",
       "0                                Destination airport Investigating agency  \\\n",
       "1  Makassar-Sultan Hasanuddin International Airpo...                 NTSC   \n",
       "1                                                  -                SCAAI   \n",
       "1                                                NaN                  NaN   \n",
       "1                  Nairobi-Wilson Airport (WIL/HKNW)                  NaN   \n",
       "1         Thomson-McDuffie County Airport, GA (KHQU)                 NTSB   \n",
       "\n",
       "0                                  Confidence Rating  \\\n",
       "1  Information verified through data from acciden...   \n",
       "1  Information verified through data from acciden...   \n",
       "1  Information is only available from news, socia...   \n",
       "1  Information verified through data from acciden...   \n",
       "1  Accident investigation report completed and in...   \n",
       "\n",
       "0                                        Description  \n",
       "1  A Boeing 737-4Y0 of Trigana Air Service suffer...  \n",
       "1  n 23 March 2021 in the morning, the pilot of t...  \n",
       "1  An Antonov An-2 force landed in a field after ...  \n",
       "1  The aircraft made a forced landing on the Ngon...  \n",
       "1  Sierra West Airlines flight PKW887, a Dassault...  \n",
       "\n",
       "[5 rows x 22 columns]"
      ]
     },
     "execution_count": 106,
     "metadata": {},
     "output_type": "execute_result"
    }
   ],
   "source": [
    "import os\n",
    "\n",
    "merge_dfs = []\n",
    "\n",
    "for y in range(2021,2026):\n",
    "    folder_path = os.path.join(os.path.os.getcwd(),'articles',str(y))\n",
    "    article_list = os.listdir(folder_path)\n",
    "    for a in article_list:\n",
    "        article_path = os.path.join(folder_path,a)\n",
    "        with open (article_path,'r', encoding='latin1') as file :\n",
    "            article = file.read()\n",
    "        soup = BeautifulSoup(article,'html.parser')\n",
    "        t = pd.read_html(str(soup))[0]\n",
    "        t[0] = t[0].str.strip(':')\n",
    "        t = t.set_index(0)\n",
    "        t = t.T\n",
    "        t['Description'] = soup.find_all('span', lang=\"en-US\")[0].text\n",
    "        merge_dfs.append(t)\n",
    "    print(f'Articles from year {y} successfully extracted')\n",
    "df = pd.concat(merge_dfs)\n",
    "df.head()\n"
   ]
  },
  {
   "cell_type": "code",
   "execution_count": 105,
   "metadata": {},
   "outputs": [],
   "source": [
    "df.to_csv('aviation_incidents.csv',index=False, encoding=\"latin1\")"
   ]
  },
  {
   "cell_type": "code",
   "execution_count": null,
   "metadata": {},
   "outputs": [],
   "source": [
    "from pydantic import BaseModel\n",
    "from openai import OpenAI\n",
    "from keys import *\n",
    "\n",
    "client = OpenAI(api_key=OPENAI_API)\n"
   ]
  },
  {
   "cell_type": "markdown",
   "metadata": {},
   "source": [
    "# AVHerald"
   ]
  },
  {
   "cell_type": "code",
   "execution_count": 2,
   "metadata": {},
   "outputs": [],
   "source": [
    "# Using https://avherald.com/\n",
    "\n",
    "# Retrieve links of pages excluding website announcements\n",
    "\n",
    "base_url = \"https://avherald.com\"\n",
    "wo_news = \"/h?list=&opt=2048\"\n",
    "\n",
    "\n",
    "headers = {\n",
    "    \"User-Agent\": \"Mozilla/5.0 (Windows NT 11.0; Win64; x64) AppleWebKit/537.36 (KHTML, like Gecko) Chrome/121.0.0.0 Safari/537.36\"\n",
    "}\n",
    "\n",
    "base_response = requests.get(base_url+wo_news,headers = headers )\n",
    "\n",
    "if base_response.status_code == 200:\n",
    "    soup = BeautifulSoup(base_response.text,'html.parser')\n",
    "else:\n",
    "    print(\"Fetch page failed\")"
   ]
  },
  {
   "cell_type": "code",
   "execution_count": 3,
   "metadata": {},
   "outputs": [
    {
     "name": "stdout",
     "output_type": "stream",
     "text": [
      "Page X imported\n"
     ]
    }
   ],
   "source": [
    "# Extract links to wikibase\n",
    "import re\n",
    "ids = []\n",
    "for s in soup.find_all('a'):\n",
    "    link = s.get('href')\n",
    "    pattern = r'(\\/h\\?article=\\w+)'\n",
    "    match = re.findall(pattern, link)\n",
    "    if match:\n",
    "        ids.append(match[0])\n",
    "ids\n",
    "print(f\"Page X imported\")"
   ]
  },
  {
   "cell_type": "code",
   "execution_count": 4,
   "metadata": {},
   "outputs": [
    {
     "data": {
      "text/plain": [
       "['/h?article=52439b47',\n",
       " '/h?article=523ff442',\n",
       " '/h?article=52374362',\n",
       " '/h?article=52418266',\n",
       " '/h?article=52417dcb',\n",
       " '/h?article=52417ba6',\n",
       " '/h?article=52416bbe',\n",
       " '/h?article=523b782d',\n",
       " '/h?article=524168c3',\n",
       " '/h?article=52416727',\n",
       " '/h?article=523ec753',\n",
       " '/h?article=51b7473c',\n",
       " '/h?article=5240d916',\n",
       " '/h?article=5018aa32',\n",
       " '/h?article=5240ba0d',\n",
       " '/h?article=5240abca',\n",
       " '/h?article=5240aec2',\n",
       " '/h?article=524027d7',\n",
       " '/h?article=52401f3c',\n",
       " '/h?article=52401694',\n",
       " '/h?article=524001d2',\n",
       " '/h?article=523f91e8',\n",
       " '/h?article=523f882f',\n",
       " '/h?article=523f827b',\n",
       " '/h?article=523ece13',\n",
       " '/h?article=523ecbf0',\n",
       " '/h?article=523ec3d3',\n",
       " '/h?article=514b23d5',\n",
       " '/h?article=523eb568',\n",
       " '/h?article=523e19b9',\n",
       " '/h?article=523ceeec',\n",
       " '/h?article=523cedc0',\n",
       " '/h?article=523cd65e',\n",
       " '/h?article=523cd3b8',\n",
       " '/h?article=523c3d01',\n",
       " '/h?article=523c1d8d',\n",
       " '/h?article=521fd4fb',\n",
       " '/h?article=523ba0ee',\n",
       " '/h?article=523adfe4',\n",
       " '/h?article=523add12',\n",
       " '/h?article=523ad9f3',\n",
       " '/h?article=523a4b88',\n",
       " '/h?article=5216ca13',\n",
       " '/h?article=523a3495',\n",
       " '/h?article=523a3189',\n",
       " '/h?article=523a2f58',\n",
       " '/h?article=523a2dc3',\n",
       " '/h?article=45483425']"
      ]
     },
     "execution_count": 4,
     "metadata": {},
     "output_type": "execute_result"
    }
   ],
   "source": [
    "ids"
   ]
  },
  {
   "cell_type": "code",
   "execution_count": 56,
   "metadata": {},
   "outputs": [],
   "source": [
    "# Accessing individual page\n",
    "\n",
    "page_response = requests.get(base_url+ids[0], headers = headers)\n",
    "\n",
    "soup = BeautifulSoup(page_response.text, 'html.parser')"
   ]
  },
  {
   "cell_type": "code",
   "execution_count": 57,
   "metadata": {},
   "outputs": [
    {
     "data": {
      "text/plain": [
       "'https://avherald.com/h?article=52439b47'"
      ]
     },
     "execution_count": 57,
     "metadata": {},
     "output_type": "execute_result"
    }
   ],
   "source": [
    "base_url+ids[0]"
   ]
  },
  {
   "cell_type": "code",
   "execution_count": 58,
   "metadata": {},
   "outputs": [
    {
     "data": {
      "text/plain": [
       "'Accident: Endeavor CRJ9 at Toronto on Feb 17th 2025, flipped over on landing'"
      ]
     },
     "execution_count": 58,
     "metadata": {},
     "output_type": "execute_result"
    }
   ],
   "source": [
    "headline = soup.find_all('span', class_ = 'headline_article')[0].text\n",
    "headline"
   ]
  },
  {
   "cell_type": "code",
   "execution_count": 92,
   "metadata": {},
   "outputs": [],
   "source": [
    "accident_type = re.findall(r'(\\w+):', headline)[0]"
   ]
  },
  {
   "cell_type": "code",
   "execution_count": 120,
   "metadata": {},
   "outputs": [
    {
     "data": {
      "text/plain": [
       "'An Endeavor Airlines Canadair CRJ-900 on behalf of Delta Airlines, registration N932XJ performing flight DL-4819 from Minneapolis,MN (USA) to Toronto,ON (Canada) with 76 passengers and 4 crew, landed on Toronto\\'s runway 23 at 14:12L (19:12Z) but came to a stop on the runway inverted, both wings, both main gear and the tailplane separated from the airframe. There were no fatalities, however, one person was critically injured, 7 others received minor injuries.\\n\\nToronto Airport reported all people on board have been accounted for. \\n\\nEmergency services reported one person is in critical condition, 7 others have received injuries.\\n\\nThe Canadian TSB reported: \"TSBAir is deploying a team to investigate an aircraft accident at Toronto / Lester B. Pearson International Airport, ON. The TSB will gather information and assess the occurrence.\"\\n\\nThe NTSB reported: \"The NTSB is leading a team of U.S. investigators to assist the Transportation Safety Board of Canada with their investigation of today\\x92s accident of a Delta Air Lines Bombardier CRJ900 at Toronto Pearson International Airport. Per international protocols under the International Civil Aviation Organization\\'s Annex 13, any information about the investigation will be released by the Transportation Safety Board of Canada.\"\\n\\nRelated NOTAMs:\\nS0930/25 NOTAMR S0928/25\\nQ) CZYZ/QFAXX/IV/NBO/A/000/999/4341N07938W005\\nA) CYYZ PART 1 OF 4 B) 2502171907 C) 2502180307\\nE) RSC 05 5/5/5 10 PCT COMPACTED SNOW AND 25 PCT 1/8IN DRY SNOW, 10 \\nPCT COMPACTED SNOW AND 25 PCT 1/8IN DRY SNOW, 10 PCT COMPACTED \\nSNOW AND 25 PCT 1/8IN DRY SNOW. 160FT WIDTH. REMAINING WIDTH \\n1/4IN DRY SNOW ON TOP OF COMPACTED SNOW. BLOWING SNOW. CHEMICAL \\nRESIDUE PRESENT. VALID FEB 17 1750 - FEB 18 0150.\\nRSC 23 5/5/5 10 PCT COMPACTED SNOW AND 25 PCT 1/8IN DRY SNOW, 10 \\nPCT COMPACTED SNOW AND 25 PCT 1/8IN DRY SNOW, 10 PCT COMPACTED \\nSNOW AND 25 PCT 1/8IN DRY SNOW. 160FT WIDTH. REMAINING WIDTH \\n1/4IN DRY SNOW ON TOP OF COMPACTED SNOW. BLOWING SNOW. CHEMICAL \\nRESIDUE PRESENT. VALID FEB 17 1750 - FEB 18 0150.\\n\\nS0932/25 NOTAMR S0930/25\\nQ) CZYZ/QFAXX/IV/NBO/A/000/999/4341N07938W005\\nA) CYYZ PART 1 OF 3 B) 2502171922 C) 2502180322\\nE) RSC 05 5/5/5 10 PCT COMPACTED SNOW AND 25 PCT 1/8IN DRY SNOW, 10 \\nPCT COMPACTED SNOW AND 25 PCT 1/8IN DRY SNOW, 10 PCT COMPACTED \\nSNOW AND 25 PCT 1/8IN DRY SNOW. 160FT WIDTH. REMAINING WIDTH \\n1/4IN DRY SNOW ON TOP OF COMPACTED SNOW. BLOWING SNOW. CHEMICAL \\nRESIDUE PRESENT. VALID FEB 17 1750 - FEB 18 0150.\\nRSC 23 5/5/5 10 PCT COMPACTED SNOW AND 25 PCT 1/8IN DRY SNOW, 10 \\nPCT COMPACTED SNOW AND 25 PCT 1/8IN DRY SNOW, 10 PCT COMPACTED \\nSNOW AND 25 PCT 1/8IN DRY SNOW. 160FT WIDTH. REMAINING WIDTH \\n1/4IN DRY SNOW ON TOP OF COMPACTED SNOW. BLOWING SNOW. CHEMICAL \\nRESIDUE PRESENT. VALID FEB 17 1750 - FEB 18 0150.\\n\\nD0446/25 NOTAMN\\nQ) CZYZ/QMRLC/IV/NBO/A/000/999/4341N07938W005\\nA) CYYZ B) 2502171924 C) 2502181923\\nE) RWY 05/23 CLSD.\\n\\nMetars:\\nCYYZ 172100Z 27026G34KT 10SM DRSN BKN040 M09/M15 A2996 RMK CU5 SLP159=\\nCYYZ 172000Z 27027G35KT 5SM BLSN BKN038 M08/M15 A2994 RMK CU5 VIS VRB 2-8 SLP153=\\n<b>CYYZ 171932Z 27020G32KT 6SM R24L/2600VP6000FT/D BLSN BKN030 M08/M13 A2994 RMK CU5 ACCIDENT REPORT SLP151=</b>\\n<b>CYYZ 171900Z 27028G35KT 6SM R24L/3000VP6000FT/U BLSN BKN034 M09/M14 A2993 RMK CU6 SLP149=</b>\\nCYYZ 171800Z 27028G34KT 6SM R33R/3000V5000FT/N R24L/5500V6000FT/U BLSN BKN038 M08/M14 A2992 RMK CF6 SLP146=\\nCYYZ 171700Z 27029G36KT 3SM R33L/3500VP6000FT/U R33R/2200V3000FT/N BLSN BKN033 M08/M13 A2991 RMK CF5 SLP141=\\nCYYZ 171600Z 26025G35KT 5SM R33R/4500V6000FT/U BLSN BKN030 M07/M12 A2990 RMK CF5 SLP137=\\nCYYZ 171522Z 26019G26KT 3SM -SHSN DRSN BKN020 M08/M11 A2989 RMK CF6 SLP136=\\nCYYZ 171500Z 27020G27KT 15SM DRSN BKN030 M07/M13 A2989 RMK CF5 SLP135=\\nCYYZ 171400Z 31006KT 15SM FEW020 FEW040 M10/M13 A2988 RMK CF1SC1 SC TR SLP133=\\n\\n\\n</br>'"
      ]
     },
     "execution_count": 120,
     "metadata": {},
     "output_type": "execute_result"
    }
   ],
   "source": [
    "# Extract text in question, with tags\n",
    "body = soup.find_all('span', class_ = 'sitetext')[3]\n",
    "body_text = \"\".join(str(b) for b in body.contents)\n",
    "\n",
    "# Split the text into chunks\n",
    "body_text = body_text.split('<br/><br/>')\n",
    "\n",
    "# Remove text chunks with external links as they are not useful for the analysis\n",
    "body_text = [chunk for chunk in body_text if 'http' not in chunk]\n",
    "body_text = \"\\n\\n\".join(body_text)\n",
    "\n",
    "# Clean br tags\n",
    "body_text = re.sub(r'<br\\s*/?>','\\n',body_text)\n",
    "\n",
    "body_text"
   ]
  },
  {
   "cell_type": "code",
   "execution_count": 121,
   "metadata": {},
   "outputs": [],
   "source": [
    "date_pattern = r'\\b(?:Jan|Feb|Mar|Apr|May|Jun|Jul|Aug|Sep|Oct|Nov|Dec)\\s\\d{1,2}(?:st|nd|rd|th)?,?\\s\\d{4}\\b'\n",
    "ext_date = re.findall(date_pattern, headline)[0]"
   ]
  },
  {
   "cell_type": "code",
   "execution_count": 122,
   "metadata": {},
   "outputs": [],
   "source": [
    "clean_date = re.sub(r'(st|nd|rd|th)', '', ext_date)"
   ]
  },
  {
   "cell_type": "code",
   "execution_count": 123,
   "metadata": {},
   "outputs": [
    {
     "data": {
      "text/plain": [
       "'2025-02-17'"
      ]
     },
     "execution_count": 123,
     "metadata": {},
     "output_type": "execute_result"
    }
   ],
   "source": [
    "from datetime import datetime\n",
    "\n",
    "formatted_date = datetime.strptime(clean_date, \"%b %d %Y\").strftime('%Y-%m-%d')\n",
    "formatted_date"
   ]
  },
  {
   "cell_type": "code",
   "execution_count": 124,
   "metadata": {},
   "outputs": [],
   "source": [
    "filter = r'registration (\\w+)'\n",
    "registration_code = re.findall(filter, body_text)[0]"
   ]
  },
  {
   "cell_type": "code",
   "execution_count": 125,
   "metadata": {},
   "outputs": [
    {
     "data": {
      "text/plain": [
       "'2025-02-17_N932XJ'"
      ]
     },
     "execution_count": 125,
     "metadata": {},
     "output_type": "execute_result"
    }
   ],
   "source": [
    "formatted_date+'_'+registration_code"
   ]
  },
  {
   "cell_type": "code",
   "execution_count": 2,
   "metadata": {},
   "outputs": [
    {
     "data": {
      "text/plain": [
       "'/home/kwonowk/code/kwonowk/Projects/aviation-safety/files'"
      ]
     },
     "execution_count": 2,
     "metadata": {},
     "output_type": "execute_result"
    }
   ],
   "source": [
    "import os\n",
    "\n",
    "file_path = os.path.join(os.getcwd(),'files')\n",
    "file_path"
   ]
  },
  {
   "cell_type": "code",
   "execution_count": 127,
   "metadata": {},
   "outputs": [],
   "source": [
    "file_name = formatted_date+'_'+accident_type+'_'+registration_code+'.txt'\n",
    "with open('files/'+file_name, 'w') as f:\n",
    "    f.write(headline)\n",
    "    f.write('\\n')\n",
    "    f.write(body_text)"
   ]
  },
  {
   "cell_type": "markdown",
   "metadata": {},
   "source": [
    "# Extract detailed information from the text\n",
    "Using Chat GPT\n",
    "\n",
    "- Type of event : crash / accident / incident \n",
    "- operator : \n",
    "- marketing carrier : \n",
    "- plane Registration code\n",
    "- Datetime\n",
    "- Flight code \n",
    "- Plane model\n",
    "- from_airport : \n",
    "- from_city :\n",
    "- from_country :\n",
    "- to_city : \n",
    "- to_country : \n",
    "- to_airport : \n",
    "- onboard_passengers :\n",
    "- onboard_crews\n",
    "- fatalities\n",
    "- injuries_critical :\n",
    "- injuries_minor :\n",
    "- injuries_total : \n",
    "- cause : plane / external \n",
    "- investigation_status \n"
   ]
  },
  {
   "cell_type": "code",
   "execution_count": null,
   "metadata": {},
   "outputs": [
    {
     "ename": "OpenAIError",
     "evalue": "The api_key client option must be set either by passing api_key to the client or by setting the OPENAI_API_KEY environment variable",
     "output_type": "error",
     "traceback": [
      "\u001b[0;31m---------------------------------------------------------------------------\u001b[0m",
      "\u001b[0;31mOpenAIError\u001b[0m                               Traceback (most recent call last)",
      "Cell \u001b[0;32mIn [128], line 2\u001b[0m\n\u001b[1;32m      1\u001b[0m \u001b[38;5;28;01mfrom\u001b[39;00m \u001b[38;5;21;01mopenai\u001b[39;00m \u001b[38;5;28;01mimport\u001b[39;00m OpenAI\n\u001b[0;32m----> 2\u001b[0m client \u001b[38;5;241m=\u001b[39m \u001b[43mOpenAI\u001b[49m\u001b[43m(\u001b[49m\u001b[43m)\u001b[49m\n\u001b[1;32m      3\u001b[0m completion \u001b[38;5;241m=\u001b[39m client\u001b[38;5;241m.\u001b[39mchat\u001b[38;5;241m.\u001b[39mcompletions\u001b[38;5;241m.\u001b[39mcreate(\n\u001b[1;32m      4\u001b[0m     model\u001b[38;5;241m=\u001b[39m\u001b[38;5;124m\"\u001b[39m\u001b[38;5;124mgpt-mini\u001b[39m\u001b[38;5;124m\"\u001b[39m,\n\u001b[1;32m      5\u001b[0m     store\u001b[38;5;241m=\u001b[39m\u001b[38;5;28;01mTrue\u001b[39;00m,\n\u001b[0;32m   (...)\u001b[0m\n\u001b[1;32m      8\u001b[0m     ]\n\u001b[1;32m      9\u001b[0m )\n",
      "File \u001b[0;32m~/.pyenv/versions/lewagon/lib/python3.10/site-packages/openai/_client.py:110\u001b[0m, in \u001b[0;36mOpenAI.__init__\u001b[0;34m(self, api_key, organization, project, base_url, websocket_base_url, timeout, max_retries, default_headers, default_query, http_client, _strict_response_validation)\u001b[0m\n\u001b[1;32m    108\u001b[0m     api_key \u001b[38;5;241m=\u001b[39m os\u001b[38;5;241m.\u001b[39menviron\u001b[38;5;241m.\u001b[39mget(\u001b[38;5;124m\"\u001b[39m\u001b[38;5;124mOPENAI_API_KEY\u001b[39m\u001b[38;5;124m\"\u001b[39m)\n\u001b[1;32m    109\u001b[0m \u001b[38;5;28;01mif\u001b[39;00m api_key \u001b[38;5;129;01mis\u001b[39;00m \u001b[38;5;28;01mNone\u001b[39;00m:\n\u001b[0;32m--> 110\u001b[0m     \u001b[38;5;28;01mraise\u001b[39;00m OpenAIError(\n\u001b[1;32m    111\u001b[0m         \u001b[38;5;124m\"\u001b[39m\u001b[38;5;124mThe api_key client option must be set either by passing api_key to the client or by setting the OPENAI_API_KEY environment variable\u001b[39m\u001b[38;5;124m\"\u001b[39m\n\u001b[1;32m    112\u001b[0m     )\n\u001b[1;32m    113\u001b[0m \u001b[38;5;28mself\u001b[39m\u001b[38;5;241m.\u001b[39mapi_key \u001b[38;5;241m=\u001b[39m api_key\n\u001b[1;32m    115\u001b[0m \u001b[38;5;28;01mif\u001b[39;00m organization \u001b[38;5;129;01mis\u001b[39;00m \u001b[38;5;28;01mNone\u001b[39;00m:\n",
      "\u001b[0;31mOpenAIError\u001b[0m: The api_key client option must be set either by passing api_key to the client or by setting the OPENAI_API_KEY environment variable"
     ]
    }
   ],
   "source": [
    "from openai import OpenAI\n",
    "client = OpenAI()\n",
    "completion = client.chat.completions.create(\n",
    "    model=\"gpt-4o-mini-2024-07-18\",\n",
    "    store=True,\n",
    "    messages=[\n",
    "        {\"role\": \"user\", \"content\": \"write a haiku about ai\"},\n",
    "\n",
    "    ]\n",
    ")"
   ]
  },
  {
   "cell_type": "code",
   "execution_count": 5,
   "metadata": {},
   "outputs": [
    {
     "data": {
      "text/plain": [
       "['2025-02-17_Incident_PS.txt',\n",
       " '2025-02-17_Accident_N932XJ.txt',\n",
       " '2025-02-17_Incident_VT.txt',\n",
       " '2025-02-14_Incident_N985AT.txt']"
      ]
     },
     "execution_count": 5,
     "metadata": {},
     "output_type": "execute_result"
    }
   ],
   "source": [
    "os.listdir('files')"
   ]
  },
  {
   "cell_type": "code",
   "execution_count": null,
   "metadata": {},
   "outputs": [],
   "source": []
  }
 ],
 "metadata": {
  "kernelspec": {
   "display_name": "Python 3",
   "language": "python",
   "name": "python3"
  },
  "language_info": {
   "codemirror_mode": {
    "name": "ipython",
    "version": 3
   },
   "file_extension": ".py",
   "mimetype": "text/x-python",
   "name": "python",
   "nbconvert_exporter": "python",
   "pygments_lexer": "ipython3",
   "version": "3.10.6"
  }
 },
 "nbformat": 4,
 "nbformat_minor": 2
}
