{
 "cells": [
  {
   "cell_type": "markdown",
   "metadata": {},
   "source": [
    "# 1.Extracting data from the website"
   ]
  },
  {
   "cell_type": "code",
   "execution_count": null,
   "metadata": {},
   "outputs": [],
   "source": [
    "# Import packages\n",
    "import pandas as pd\n",
    "import requests\n",
    "from bs4 import BeautifulSoup"
   ]
  },
  {
   "cell_type": "code",
   "execution_count": null,
   "metadata": {},
   "outputs": [],
   "source": [
    "# Retrieve links of incident pages\n",
    "base_url = \"https://asn.flightsafety.org/asndb/year/\"\n",
    "year = '2025'\n",
    "\n",
    "headers = {\n",
    "    \"User-Agent\": \"Mozilla/5.0 (Windows NT 11.0; Win64; x64) AppleWebKit/537.36 (KHTML, like Gecko) Chrome/121.0.0.0 Safari/537.36\"\n",
    "}\n",
    "\n",
    "base_response = requests.get(base_url+year,headers = headers )\n",
    "\n",
    "if base_response.status_code == 200:\n",
    "    soup = BeautifulSoup(base_response.text,'html.parser')\n",
    "else:\n",
    "    print(\"Fetch page failed\")"
   ]
  },
  {
   "cell_type": "code",
   "execution_count": null,
   "metadata": {},
   "outputs": [
    {
     "data": {
      "text/plain": [
       "['477564',\n",
       " '477543',\n",
       " '477515',\n",
       " '477494',\n",
       " '477396',\n",
       " '477347',\n",
       " '477298',\n",
       " '477200',\n",
       " '477172',\n",
       " '477144',\n",
       " '477060',\n",
       " '476885',\n",
       " '477130',\n",
       " '476759',\n",
       " '476745',\n",
       " '476696',\n",
       " '476661',\n",
       " '476640',\n",
       " '477277',\n",
       " '476528',\n",
       " '476521',\n",
       " '476493',\n",
       " '476486',\n",
       " '476416',\n",
       " '476311',\n",
       " '477074',\n",
       " '476409',\n",
       " '476402',\n",
       " '476395',\n",
       " '476353',\n",
       " '476346',\n",
       " '476290',\n",
       " '476276',\n",
       " '476178',\n",
       " '476171',\n",
       " '476136',\n",
       " '476388',\n",
       " '476381',\n",
       " '475954',\n",
       " '477067',\n",
       " '476367',\n",
       " '476360',\n",
       " '476339',\n",
       " '476052',\n",
       " '476003',\n",
       " '475898',\n",
       " '475856',\n",
       " '475821',\n",
       " '475814',\n",
       " '475625',\n",
       " '477466',\n",
       " '476752',\n",
       " '476255',\n",
       " '476248',\n",
       " '476080',\n",
       " '475870',\n",
       " '475716',\n",
       " '475709',\n",
       " '475590',\n",
       " '475576',\n",
       " '475485',\n",
       " '475471',\n",
       " '475450',\n",
       " '475429',\n",
       " '475415',\n",
       " '475394',\n",
       " '475317',\n",
       " '475303',\n",
       " '475254',\n",
       " '476241',\n",
       " '476234',\n",
       " '476227',\n",
       " '476220',\n",
       " '475863',\n",
       " '475842',\n",
       " '475681',\n",
       " '475653',\n",
       " '475597',\n",
       " '475583',\n",
       " '475534',\n",
       " '475499',\n",
       " '475492',\n",
       " '475436',\n",
       " '475401',\n",
       " '475296',\n",
       " '475275',\n",
       " '475261',\n",
       " '477480',\n",
       " '477473',\n",
       " '476451',\n",
       " '476213',\n",
       " '476150',\n",
       " '476143',\n",
       " '475513',\n",
       " '475506',\n",
       " '477431',\n",
       " '476192',\n",
       " '476045',\n",
       " '476038',\n",
       " '475961']"
      ]
     },
     "execution_count": 45,
     "metadata": {},
     "output_type": "execute_result"
    }
   ],
   "source": [
    "# Extract links to wikibase\n",
    "import re\n",
    "ids = []\n",
    "for s in soup.find_all('span', class_ = 'nobr'):\n",
    "    link = s.find('a').get('href')\n",
    "    pattern = r'\\/wikibase\\/(\\d+)'\n",
    "    match = re.findall(pattern, link)\n",
    "    ids.append(match[0])\n",
    "ids\n",
    "print(f\"Page X imported\")"
   ]
  },
  {
   "cell_type": "code",
   "execution_count": 47,
   "metadata": {},
   "outputs": [
    {
     "data": {
      "text/plain": [
       "'477564'"
      ]
     },
     "execution_count": 47,
     "metadata": {},
     "output_type": "execute_result"
    }
   ],
   "source": [
    "ids[0]"
   ]
  },
  {
   "cell_type": "code",
   "execution_count": 58,
   "metadata": {},
   "outputs": [],
   "source": [
    "# Extract inicident details from each page\n",
    "\n",
    "page_url = \"https://asn.flightsafety.org/wikibase/\"\n",
    "\n",
    "page_response = requests.get(page_url+ids[1], headers = headers)\n",
    "\n",
    "soup = BeautifulSoup(page_response.text, 'html.parser')"
   ]
  },
  {
   "cell_type": "code",
   "execution_count": null,
   "metadata": {},
   "outputs": [
    {
     "data": {
      "text/html": [
       "<div>\n",
       "<style scoped>\n",
       "    .dataframe tbody tr th:only-of-type {\n",
       "        vertical-align: middle;\n",
       "    }\n",
       "\n",
       "    .dataframe tbody tr th {\n",
       "        vertical-align: top;\n",
       "    }\n",
       "\n",
       "    .dataframe thead th {\n",
       "        text-align: right;\n",
       "    }\n",
       "</style>\n",
       "<table border=\"1\" class=\"dataframe\">\n",
       "  <thead>\n",
       "    <tr style=\"text-align: right;\">\n",
       "      <th></th>\n",
       "      <th>Date</th>\n",
       "      <th>Time</th>\n",
       "      <th>Type</th>\n",
       "      <th>Owner/operator</th>\n",
       "      <th>Registration</th>\n",
       "      <th>MSN</th>\n",
       "      <th>Year of manufacture</th>\n",
       "      <th>Engine model</th>\n",
       "      <th>Fatalities</th>\n",
       "      <th>Other fatalities</th>\n",
       "      <th>Aircraft damage</th>\n",
       "      <th>Category</th>\n",
       "      <th>Location</th>\n",
       "      <th>Phase</th>\n",
       "      <th>Nature</th>\n",
       "      <th>Departure airport</th>\n",
       "      <th>Destination airport</th>\n",
       "      <th>Confidence Rating</th>\n",
       "    </tr>\n",
       "  </thead>\n",
       "  <tbody>\n",
       "    <tr>\n",
       "      <th>1</th>\n",
       "      <td>Friday 14 February 2025</td>\n",
       "      <td>NaN</td>\n",
       "      <td>Airbus A321-211 (WL)</td>\n",
       "      <td>Aeroflot Russian International Airlines</td>\n",
       "      <td>RA-73166</td>\n",
       "      <td>8363</td>\n",
       "      <td>2018</td>\n",
       "      <td>CFMI CFM56-5B3/P</td>\n",
       "      <td>Fatalities: 0 / Occupants: 0</td>\n",
       "      <td>0</td>\n",
       "      <td>Minor</td>\n",
       "      <td>Other</td>\n",
       "      <td>Moskva-Sheremetyevo Airport (SVO/UUEE) - Russia</td>\n",
       "      <td>Standing</td>\n",
       "      <td>-</td>\n",
       "      <td>-</td>\n",
       "      <td>-</td>\n",
       "      <td>Information verified through data from acciden...</td>\n",
       "    </tr>\n",
       "  </tbody>\n",
       "</table>\n",
       "</div>"
      ],
      "text/plain": [
       "0                     Date Time                  Type  \\\n",
       "1  Friday 14 February 2025  NaN  Airbus A321-211 (WL)   \n",
       "\n",
       "0                           Owner/operator Registration   MSN  \\\n",
       "1  Aeroflot Russian International Airlines     RA-73166  8363   \n",
       "\n",
       "0 Year of manufacture      Engine model                    Fatalities  \\\n",
       "1                2018  CFMI CFM56-5B3/P  Fatalities: 0 / Occupants: 0   \n",
       "\n",
       "0 Other fatalities Aircraft damage Category  \\\n",
       "1                0           Minor    Other   \n",
       "\n",
       "0                                         Location     Phase Nature  \\\n",
       "1  Moskva-Sheremetyevo Airport (SVO/UUEE) - Russia  Standing      -   \n",
       "\n",
       "0 Departure airport Destination airport  \\\n",
       "1                 -                   -   \n",
       "\n",
       "0                                  Confidence Rating  \n",
       "1  Information verified through data from acciden...  "
      ]
     },
     "execution_count": 70,
     "metadata": {},
     "output_type": "execute_result"
    }
   ],
   "source": [
    "table = pd.read_html(page_response.text)[0]\n",
    "table[0] = table[0].str.strip(':')\n",
    "table = table.set_index(0).T"
   ]
  },
  {
   "cell_type": "code",
   "execution_count": null,
   "metadata": {},
   "outputs": [],
   "source": [
    "soup.fin"
   ]
  },
  {
   "cell_type": "code",
   "execution_count": null,
   "metadata": {},
   "outputs": [],
   "source": [
    "# Add narrative and source\n",
    "table['Narrative']"
   ]
  }
 ],
 "metadata": {
  "kernelspec": {
   "display_name": "Python 3",
   "language": "python",
   "name": "python3"
  },
  "language_info": {
   "codemirror_mode": {
    "name": "ipython",
    "version": 3
   },
   "file_extension": ".py",
   "mimetype": "text/x-python",
   "name": "python",
   "nbconvert_exporter": "python",
   "pygments_lexer": "ipython3",
   "version": "3.10.6"
  }
 },
 "nbformat": 4,
 "nbformat_minor": 2
}
